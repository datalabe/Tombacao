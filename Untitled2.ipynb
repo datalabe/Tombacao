{
 "cells": [
  {
   "cell_type": "code",
   "execution_count": 1,
   "id": "acfb0f31",
   "metadata": {},
   "outputs": [],
   "source": [
    "import pandas as pd"
   ]
  },
  {
   "cell_type": "code",
   "execution_count": 2,
   "id": "be938470",
   "metadata": {},
   "outputs": [],
   "source": [
    "dados = pd.read_csv('EixoSobreVoce.csv')"
   ]
  },
  {
   "cell_type": "code",
   "execution_count": 6,
   "id": "40ad2ee8",
   "metadata": {},
   "outputs": [
    {
     "data": {
      "text/plain": [
       "Index(['faixa_etaria', 'orientsex', 'idgen', 'intersex', 'raca', 'idade',\n",
       "       'ondmora', 'defic', 'qualdefic', 'escol', 'ufnasc'],\n",
       "      dtype='object')"
      ]
     },
     "execution_count": 6,
     "metadata": {},
     "output_type": "execute_result"
    }
   ],
   "source": [
    "dados.columns"
   ]
  },
  {
   "cell_type": "code",
   "execution_count": 5,
   "id": "ace67e3c",
   "metadata": {},
   "outputs": [
    {
     "data": {
      "text/plain": [
       "['SANTO CRISTO',\n",
       " 'MARÉ',\n",
       " 'DIVINEIA',\n",
       " 'NÃO MORO EM COMUNIDADE',\n",
       " 'MANGUINHOS',\n",
       " 'COMUNIDADE DO CACARECO',\n",
       " 'JACAREZINHO',\n",
       " 'COMPLEXO DO BOAÇÚ',\n",
       " 'MANGUEIRINHA/DUQUE DE CAXIAS',\n",
       " 'FURK MENDES',\n",
       " 'FURQUIM MENDES',\n",
       " 'DICK',\n",
       " 'COMUNIDADE DA FURK MENDES',\n",
       " 'JARDIM AMÉRICA',\n",
       " 'BELFORD ROXO BAIXADA FLUMINENSE',\n",
       " 'Sem informação',\n",
       " 'VILA PAULINE',\n",
       " 'PACIÊNCIA - CESARINHO',\n",
       " 'PALMARES',\n",
       " 'MORRO CANTAGALO',\n",
       " 'COMPLEXO DO ALEMÃO',\n",
       " 'ACARI',\n",
       " 'CIDADE DE DEUS',\n",
       " 'ROCINHA',\n",
       " 'ENGENHO DA RAINHA',\n",
       " 'VILA CRUZEIRO',\n",
       " 'CAJUEIRO',\n",
       " 'MORRO DOS PRAZERES',\n",
       " 'PAVUNA',\n",
       " 'CERRO CORA',\n",
       " 'SANTA CRUZ',\n",
       " 'RAMOS',\n",
       " 'VILA KENNEDY',\n",
       " 'FAVELA DA CAROBINHA, CAMPO GRANDE (ZO-RJ)',\n",
       " 'CEILÂNDIA - DF',\n",
       " 'FAZENDINHA']"
      ]
     },
     "execution_count": 5,
     "metadata": {},
     "output_type": "execute_result"
    }
   ],
   "source": [
    "dados['ondmora'].unique().tolist()"
   ]
  },
  {
   "cell_type": "code",
   "execution_count": null,
   "id": "1662a482",
   "metadata": {},
   "outputs": [],
   "source": []
  }
 ],
 "metadata": {
  "kernelspec": {
   "display_name": "Python 3 (ipykernel)",
   "language": "python",
   "name": "python3"
  },
  "language_info": {
   "codemirror_mode": {
    "name": "ipython",
    "version": 3
   },
   "file_extension": ".py",
   "mimetype": "text/x-python",
   "name": "python",
   "nbconvert_exporter": "python",
   "pygments_lexer": "ipython3",
   "version": "3.10.4"
  },
  "varInspector": {
   "cols": {
    "lenName": 16,
    "lenType": 16,
    "lenVar": 40
   },
   "kernels_config": {
    "python": {
     "delete_cmd_postfix": "",
     "delete_cmd_prefix": "del ",
     "library": "var_list.py",
     "varRefreshCmd": "print(var_dic_list())"
    },
    "r": {
     "delete_cmd_postfix": ") ",
     "delete_cmd_prefix": "rm(",
     "library": "var_list.r",
     "varRefreshCmd": "cat(var_dic_list()) "
    }
   },
   "types_to_exclude": [
    "module",
    "function",
    "builtin_function_or_method",
    "instance",
    "_Feature"
   ],
   "window_display": false
  }
 },
 "nbformat": 4,
 "nbformat_minor": 5
}
